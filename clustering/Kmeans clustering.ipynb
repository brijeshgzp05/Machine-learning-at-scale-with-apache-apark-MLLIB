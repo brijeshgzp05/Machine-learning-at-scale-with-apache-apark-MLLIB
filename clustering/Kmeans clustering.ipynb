{
 "cells": [
  {
   "cell_type": "code",
   "execution_count": 1,
   "metadata": {},
   "outputs": [],
   "source": [
    "from pyspark.sql import SparkSession\n",
    "spark = SparkSession.builder.master(\"local[*]\").getOrCreate()"
   ]
  },
  {
   "cell_type": "code",
   "execution_count": 105,
   "metadata": {},
   "outputs": [],
   "source": [
    "# reading data from csv file locally\n",
    "df = spark.read.format(\"csv\").option(\"header\", \"true\").load(\"income_and_expenditure.csv\")"
   ]
  },
  {
   "cell_type": "code",
   "execution_count": 106,
   "metadata": {},
   "outputs": [
    {
     "data": {
      "text/plain": [
       "303"
      ]
     },
     "execution_count": 106,
     "metadata": {},
     "output_type": "execute_result"
    }
   ],
   "source": [
    "df.count()"
   ]
  },
  {
   "cell_type": "code",
   "execution_count": 107,
   "metadata": {},
   "outputs": [
    {
     "name": "stdout",
     "output_type": "stream",
     "text": [
      "+------+-----+\n",
      "|INCOME|SPEND|\n",
      "+------+-----+\n",
      "|   233|  150|\n",
      "|   250|  187|\n",
      "|   204|  172|\n",
      "|   236|  178|\n",
      "|   354|  163|\n",
      "+------+-----+\n",
      "only showing top 5 rows\n",
      "\n"
     ]
    }
   ],
   "source": [
    "df.show(5)"
   ]
  },
  {
   "cell_type": "code",
   "execution_count": 108,
   "metadata": {},
   "outputs": [
    {
     "name": "stdout",
     "output_type": "stream",
     "text": [
      "root\n",
      " |-- INCOME: string (nullable = true)\n",
      " |-- SPEND: string (nullable = true)\n",
      "\n"
     ]
    }
   ],
   "source": [
    "df.printSchema()"
   ]
  },
  {
   "cell_type": "code",
   "execution_count": 109,
   "metadata": {},
   "outputs": [],
   "source": [
    "# changing columns datatype to int \n",
    "df = df.withColumn(\"INCOME\", df[\"INCOME\"].cast('int')).withColumn(\"SPEND\", df[\"SPEND\"].cast('int'))"
   ]
  },
  {
   "cell_type": "code",
   "execution_count": 110,
   "metadata": {},
   "outputs": [
    {
     "name": "stdout",
     "output_type": "stream",
     "text": [
      "root\n",
      " |-- INCOME: integer (nullable = true)\n",
      " |-- SPEND: integer (nullable = true)\n",
      "\n"
     ]
    }
   ],
   "source": [
    "df.printSchema()"
   ]
  },
  {
   "cell_type": "code",
   "execution_count": 111,
   "metadata": {},
   "outputs": [
    {
     "name": "stdout",
     "output_type": "stream",
     "text": [
      "+------+-----+\n",
      "|INCOME|SPEND|\n",
      "+------+-----+\n",
      "+------+-----+\n",
      "\n"
     ]
    }
   ],
   "source": [
    "# checking for null values\n",
    "df.createOrReplaceTempView('temp_df')\n",
    "my_df = spark.sql(\"select * from temp_df where INCOME=NULL or SPEND=NULL\")\n",
    "my_df.show()"
   ]
  },
  {
   "cell_type": "code",
   "execution_count": 112,
   "metadata": {},
   "outputs": [
    {
     "data": {
      "image/png": "[encoded data removed]",
      "text/plain": [
       "<Figure size 432x288 with 1 Axes>"
      ]
     },
     "metadata": {
      "needs_background": "light"
     },
     "output_type": "display_data"
    }
   ],
   "source": [
    "# sampling and plotting the dataframe\n",
    "import pandas as pd\n",
    "import matplotlib.pyplot as plt\n",
    "x='INCOME'\n",
    "y='SPEND'\n",
    "sampled_data = df.select(x,y).sample(False, 0.8).toPandas()\n",
    "plt.scatter(sampled_data.INCOME,sampled_data.SPEND)\n",
    "plt.xlabel(x)\n",
    "plt.ylabel(y)\n",
    "plt.title('relation of INCOME and SPEND')\n",
    "plt.show()"
   ]
  },
  {
   "cell_type": "code",
   "execution_count": 113,
   "metadata": {},
   "outputs": [
    {
     "name": "stdout",
     "output_type": "stream",
     "text": [
      "+-------------+\n",
      "|     features|\n",
      "+-------------+\n",
      "|[233.0,150.0]|\n",
      "|[250.0,187.0]|\n",
      "|[204.0,172.0]|\n",
      "+-------------+\n",
      "only showing top 3 rows\n",
      "\n"
     ]
    }
   ],
   "source": [
    "# assembling the columns\n",
    "from pyspark.ml.feature import VectorAssembler\n",
    "vectorAssembler = VectorAssembler(inputCols = [x,y], outputCol = 'features')\n",
    "v_df = vectorAssembler.transform(df)\n",
    "v_df = v_df.select(['features'])\n",
    "v_df.show(3)"
   ]
  },
  {
   "cell_type": "code",
   "execution_count": 90,
   "metadata": {},
   "outputs": [],
   "source": [
    "from pyspark.ml.clustering import KMeans\n",
    "from pyspark.ml.evaluation import ClusteringEvaluator"
   ]
  },
  {
   "cell_type": "code",
   "execution_count": 114,
   "metadata": {},
   "outputs": [],
   "source": [
    "# creating objects with four centers and fitting\n",
    "kmeans = KMeans().setK(4).setSeed(1)\n",
    "model = kmeans.fit(v_df)"
   ]
  },
  {
   "cell_type": "code",
   "execution_count": 115,
   "metadata": {},
   "outputs": [],
   "source": [
    "# predicting centers\n",
    "predictions = model.transform(v_df)"
   ]
  },
  {
   "cell_type": "code",
   "execution_count": 116,
   "metadata": {
    "scrolled": true
   },
   "outputs": [
    {
     "name": "stdout",
     "output_type": "stream",
     "text": [
      "+-------------+----------+\n",
      "|     features|prediction|\n",
      "+-------------+----------+\n",
      "|[233.0,150.0]|         2|\n",
      "|[250.0,187.0]|         2|\n",
      "|[204.0,172.0]|         0|\n",
      "|[236.0,178.0]|         2|\n",
      "|[354.0,163.0]|         3|\n",
      "+-------------+----------+\n",
      "only showing top 5 rows\n",
      "\n"
     ]
    }
   ],
   "source": [
    "predictions.show(5)"
   ]
  },
  {
   "cell_type": "code",
   "execution_count": null,
   "metadata": {},
   "outputs": [],
   "source": []
  },
  {
   "cell_type": "code",
   "execution_count": 117,
   "metadata": {},
   "outputs": [
    {
     "name": "stdout",
     "output_type": "stream",
     "text": [
      "Silhouette with squared euclidean distance = 0.462751619670138\n"
     ]
    }
   ],
   "source": [
    "# Evaluate clustering by computing Silhouette score\n",
    "evaluator = ClusteringEvaluator()\n",
    "silhouette = evaluator.evaluate(predictions)\n",
    "print(\"Silhouette with squared euclidean distance = \" + str(silhouette))"
   ]
  },
  {
   "cell_type": "code",
   "execution_count": 118,
   "metadata": {},
   "outputs": [
    {
     "name": "stdout",
     "output_type": "stream",
     "text": [
      "Cluster Centers: \n",
      "[192.76086957 148.57608696]\n",
      "[285.81081081 141.09459459]\n",
      "[240.45132743 155.79646018]\n",
      "[344.29166667 151.16666667]\n"
     ]
    }
   ],
   "source": [
    "# Shows the center points\n",
    "centers = model.clusterCenters()\n",
    "print(\"Cluster Centers: \")\n",
    "for center in centers:\n",
    "    print(center)"
   ]
  },
  {
   "cell_type": "code",
   "execution_count": 119,
   "metadata": {},
   "outputs": [
    {
     "name": "stdout",
     "output_type": "stream",
     "text": [
      "+-------------+\n",
      "|     features|\n",
      "+-------------+\n",
      "|[233.0,150.0]|\n",
      "|[250.0,187.0]|\n",
      "|[204.0,172.0]|\n",
      "|[236.0,178.0]|\n",
      "|[354.0,163.0]|\n",
      "+-------------+\n",
      "only showing top 5 rows\n",
      "\n"
     ]
    }
   ],
   "source": [
    "predictions.select('features').show(5)"
   ]
  },
  {
   "cell_type": "code",
   "execution_count": 97,
   "metadata": {},
   "outputs": [],
   "source": [
    "from pyspark.sql.functions import udf\n",
    "from pyspark.sql.types import ArrayType, FloatType"
   ]
  },
  {
   "cell_type": "code",
   "execution_count": 120,
   "metadata": {},
   "outputs": [],
   "source": [
    "split1_udf = udf(lambda value: value[0].item(), FloatType())\n",
    "split2_udf = udf(lambda value: value[1].item(), FloatType())"
   ]
  },
  {
   "cell_type": "code",
   "execution_count": 121,
   "metadata": {},
   "outputs": [],
   "source": [
    "# unpacking features column so that we can plot them \n",
    "predictions=predictions.withColumn('x', split1_udf('features')).withColumn('y', split2_udf('features'))"
   ]
  },
  {
   "cell_type": "code",
   "execution_count": 122,
   "metadata": {},
   "outputs": [
    {
     "name": "stdout",
     "output_type": "stream",
     "text": [
      "+-------------+----------+-----+-----+\n",
      "|     features|prediction|    x|    y|\n",
      "+-------------+----------+-----+-----+\n",
      "|[233.0,150.0]|         2|233.0|150.0|\n",
      "|[250.0,187.0]|         2|250.0|187.0|\n",
      "|[204.0,172.0]|         0|204.0|172.0|\n",
      "|[236.0,178.0]|         2|236.0|178.0|\n",
      "+-------------+----------+-----+-----+\n",
      "only showing top 4 rows\n",
      "\n"
     ]
    }
   ],
   "source": [
    "predictions.show(4)"
   ]
  },
  {
   "cell_type": "code",
   "execution_count": 123,
   "metadata": {},
   "outputs": [],
   "source": [
    "# sampling data to plot \n",
    "data = predictions.select('x','y','prediction').sample(False, 0.8).toPandas()"
   ]
  },
  {
   "cell_type": "code",
   "execution_count": 124,
   "metadata": {},
   "outputs": [],
   "source": [
    "x_cord = [[],[],[],[]]\n",
    "y_cord = [[],[],[],[]]"
   ]
  },
  {
   "cell_type": "code",
   "execution_count": 128,
   "metadata": {},
   "outputs": [],
   "source": [
    "cx = []\n",
    "cy = []\n",
    "for center in model.clusterCenters():\n",
    "    cx.append(center[0])\n",
    "    cy.append(center[1])"
   ]
  },
  {
   "cell_type": "code",
   "execution_count": 129,
   "metadata": {},
   "outputs": [],
   "source": [
    "for i in range(len(data)):\n",
    "    x_cord[data.loc[i,'prediction']].append(data.loc[i,'x'])\n",
    "    y_cord[data.loc[i,'prediction']].append(data.loc[i,'y'])"
   ]
  },
  {
   "cell_type": "code",
   "execution_count": 133,
   "metadata": {},
   "outputs": [
    {
     "data": {
      "image/png": "[encoded data removed]",
      "text/plain": [
       "<Figure size 432x288 with 1 Axes>"
      ]
     },
     "metadata": {
      "needs_background": "light"
     },
     "output_type": "display_data"
    }
   ],
   "source": [
    "# plotting the clusters\n",
    "plt.scatter(x_cord[0],y_cord[0],c='yellow')\n",
    "plt.scatter(x_cord[1],y_cord[1],c='orange')\n",
    "plt.scatter(x_cord[2],y_cord[2],c='cyan')\n",
    "plt.scatter(x_cord[3],y_cord[3],c='magenta')\n",
    "plt.scatter(cx,cy,c='blue',marker='x')\n",
    "plt.xlabel('Income')\n",
    "plt.ylabel('Expenditure')\n",
    "plt.title('KMeans Result')\n",
    "plt.show()colors"
   ]
  },
  {
   "cell_type": "markdown",
   "metadata": {},
   "source": [
    "### You can clearly see four clusters with centers in blue colors"
   ]
  },
  {
   "cell_type": "code",
   "execution_count": null,
   "metadata": {},
   "outputs": [],
   "source": []
  }
 ],
 "metadata": {
  "kernelspec": {
   "display_name": "Python 3",
   "language": "python",
   "name": "python3"
  },
  "language_info": {
   "codemirror_mode": {
    "name": "ipython",
    "version": 3
   },
   "file_extension": ".py",
   "mimetype": "text/x-python",
   "name": "python",
   "nbconvert_exporter": "python",
   "pygments_lexer": "ipython3",
   "version": "3.7.3"
  }
 },
 "nbformat": 4,
 "nbformat_minor": 2
}
