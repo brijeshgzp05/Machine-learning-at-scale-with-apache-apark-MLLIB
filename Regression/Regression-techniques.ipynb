{
 "cells": [
  {
   "cell_type": "markdown",
   "metadata": {},
   "source": [
    "# Regression techniques using apache spark mllib"
   ]
  },
  {
   "cell_type": "code",
   "execution_count": 1,
   "metadata": {},
   "outputs": [],
   "source": [
    "from pyspark.sql import SparkSession\n",
    "spark = SparkSession.builder.master(\"local[*]\").getOrCreate()"
   ]
  },
  {
   "cell_type": "code",
   "execution_count": null,
   "metadata": {},
   "outputs": [],
   "source": []
  },
  {
   "cell_type": "code",
   "execution_count": null,
   "metadata": {},
   "outputs": [],
   "source": []
  },
  {
   "cell_type": "markdown",
   "metadata": {},
   "source": [
    "## Data reading and preprocessing"
   ]
  },
  {
   "cell_type": "code",
   "execution_count": 2,
   "metadata": {},
   "outputs": [],
   "source": [
    "# reading data from csv file locally\n",
    "df = spark.read.format(\"csv\").option(\"header\", \"true\").load(\"linear_reg.csv\")"
   ]
  },
  {
   "cell_type": "code",
   "execution_count": 6,
   "metadata": {},
   "outputs": [
    {
     "name": "stdout",
     "output_type": "stream",
     "text": [
      "+---+---+\n",
      "|  x|  y|\n",
      "+---+---+\n",
      "|  1|  2|\n",
      "|  2|  4|\n",
      "|  3|  6|\n",
      "|  4|  8|\n",
      "|  5| 10|\n",
      "|  6| 12|\n",
      "|  7| 14|\n",
      "|  8| 16|\n",
      "|  9| 18|\n",
      "| 10| 20|\n",
      "+---+---+\n",
      "only showing top 10 rows\n",
      "\n"
     ]
    }
   ],
   "source": [
    "# viewing dataframe\n",
    "df.show(10)"
   ]
  },
  {
   "cell_type": "code",
   "execution_count": null,
   "metadata": {},
   "outputs": [],
   "source": []
  },
  {
   "cell_type": "code",
   "execution_count": 35,
   "metadata": {},
   "outputs": [
    {
     "data": {
      "text/plain": [
       "DataFrame[x: string, y: string]"
      ]
     },
     "execution_count": 35,
     "metadata": {},
     "output_type": "execute_result"
    }
   ],
   "source": [
    "# caching our dataframe\n",
    "df.cache()"
   ]
  },
  {
   "cell_type": "code",
   "execution_count": 70,
   "metadata": {},
   "outputs": [],
   "source": [
    "# changing columns datatype to int \n",
    "df = df.withColumn(\"x\", df[\"x\"].cast('int')).withColumn(\"y\", df[\"y\"].cast('int'))\n"
   ]
  },
  {
   "cell_type": "code",
   "execution_count": null,
   "metadata": {},
   "outputs": [],
   "source": []
  },
  {
   "cell_type": "code",
   "execution_count": null,
   "metadata": {},
   "outputs": [],
   "source": []
  },
  {
   "cell_type": "markdown",
   "metadata": {},
   "source": [
    "## Plotting"
   ]
  },
  {
   "cell_type": "code",
   "execution_count": 71,
   "metadata": {},
   "outputs": [
    {
     "data": {
      "image/png": "[encoded data removed]",
      "text/plain": [
       "<Figure size 432x288 with 1 Axes>"
      ]
     },
     "metadata": {
      "needs_background": "light"
     },
     "output_type": "display_data"
    }
   ],
   "source": [
    "# sampling and plotting the dataframe\n",
    "import pandas as pd\n",
    "import matplotlib.pyplot as plt\n",
    "sampled_data = df.select('x','y').sample(False, 0.8).toPandas()\n",
    "plt.scatter(sampled_data.x,sampled_data.y)\n",
    "plt.xlabel('x')\n",
    "plt.ylabel('y')\n",
    "plt.title('relation of y and x')\n",
    "plt.show()"
   ]
  },
  {
   "cell_type": "code",
   "execution_count": 74,
   "metadata": {},
   "outputs": [
    {
     "data": {
      "text/plain": [
       "1.0"
      ]
     },
     "execution_count": 74,
     "metadata": {},
     "output_type": "execute_result"
    }
   ],
   "source": [
    "# check correlation\n",
    "df.stat.corr('x','y')"
   ]
  },
  {
   "cell_type": "code",
   "execution_count": 75,
   "metadata": {},
   "outputs": [],
   "source": [
    "from pyspark.ml.feature import VectorAssembler"
   ]
  },
  {
   "cell_type": "code",
   "execution_count": 78,
   "metadata": {},
   "outputs": [],
   "source": [
    "vectorAssembler = VectorAssembler(inputCols = ['x'], outputCol = 'features')"
   ]
  },
  {
   "cell_type": "code",
   "execution_count": 79,
   "metadata": {},
   "outputs": [
    {
     "name": "stdout",
     "output_type": "stream",
     "text": [
      "+--------+---+\n",
      "|features|  y|\n",
      "+--------+---+\n",
      "|   [1.0]|  2|\n",
      "|   [2.0]|  4|\n",
      "|   [3.0]|  6|\n",
      "+--------+---+\n",
      "only showing top 3 rows\n",
      "\n"
     ]
    }
   ],
   "source": [
    "v_df = vectorAssembler.transform(df)\n",
    "v_df = v_df.select(['features', 'y'])\n",
    "v_df.show(3)"
   ]
  },
  {
   "cell_type": "code",
   "execution_count": null,
   "metadata": {},
   "outputs": [],
   "source": []
  },
  {
   "cell_type": "code",
   "execution_count": null,
   "metadata": {},
   "outputs": [],
   "source": []
  },
  {
   "cell_type": "markdown",
   "metadata": {},
   "source": [
    "## Implementing linear regression"
   ]
  },
  {
   "cell_type": "code",
   "execution_count": 84,
   "metadata": {},
   "outputs": [],
   "source": [
    "from pyspark.ml.regression import LinearRegression"
   ]
  },
  {
   "cell_type": "code",
   "execution_count": 81,
   "metadata": {},
   "outputs": [],
   "source": [
    "splits = v_df.randomSplit([0.7, 0.3])\n",
    "train_df = splits[0]\n",
    "test_df = splits[1]"
   ]
  },
  {
   "cell_type": "code",
   "execution_count": 92,
   "metadata": {},
   "outputs": [],
   "source": [
    "# creating object\n",
    "lr = LinearRegression(featuresCol = 'features', labelCol='y', maxIter=100, regParam=0.3, elasticNetParam=0.8)"
   ]
  },
  {
   "cell_type": "code",
   "execution_count": 93,
   "metadata": {},
   "outputs": [],
   "source": [
    "# fitting training data\n",
    "lr_model = lr.fit(train_df)"
   ]
  },
  {
   "cell_type": "code",
   "execution_count": 94,
   "metadata": {},
   "outputs": [
    {
     "name": "stdout",
     "output_type": "stream",
     "text": [
      "Coefficients: [1.9989478735633717]\n",
      "Intercept: 0.5213139721084235\n"
     ]
    }
   ],
   "source": [
    "# coefficients and intercepts\n",
    "print(\"Coefficients: \" + str(lr_model.coefficients))\n",
    "print(\"Intercept: \" + str(lr_model.intercept))"
   ]
  },
  {
   "cell_type": "code",
   "execution_count": 95,
   "metadata": {},
   "outputs": [
    {
     "name": "stdout",
     "output_type": "stream",
     "text": [
      "RMSE: 0.299968\n",
      "r2: 1.000000\n"
     ]
    }
   ],
   "source": [
    "# training summary\n",
    "trainingSummary = lr_model.summary\n",
    "print(\"RMSE: %f\" % trainingSummary.rootMeanSquaredError)\n",
    "print(\"r2: %f\" % trainingSummary.r2)"
   ]
  },
  {
   "cell_type": "code",
   "execution_count": 89,
   "metadata": {},
   "outputs": [
    {
     "name": "stdout",
     "output_type": "stream",
     "text": [
      "+------------------+---+--------+\n",
      "|        prediction|  y|features|\n",
      "+------------------+---+--------+\n",
      "|2.5202618456717953|  2|   [1.0]|\n",
      "|  8.51710546636191|  8|   [4.0]|\n",
      "|16.512896960615397| 16|   [8.0]|\n",
      "| 24.50868845486888| 24|  [12.0]|\n",
      "|26.507636328432255| 26|  [13.0]|\n",
      "+------------------+---+--------+\n",
      "only showing top 5 rows\n",
      "\n",
      "R Squared (R2) on test data = 1\n"
     ]
    }
   ],
   "source": [
    "# testing details\n",
    "lr_predictions = lr_model.transform(test_df)\n",
    "lr_predictions.select(\"prediction\",\"y\",\"features\").show(5)\n",
    "from pyspark.ml.evaluation import RegressionEvaluator\n",
    "lr_evaluator = RegressionEvaluator(predictionCol=\"prediction\", labelCol=\"y\",metricName=\"r2\")\n",
    "print(\"R Squared (R2) on test data = %g\" % lr_evaluator.evaluate(lr_predictions))"
   ]
  },
  {
   "cell_type": "code",
   "execution_count": 97,
   "metadata": {},
   "outputs": [
    {
     "name": "stdout",
     "output_type": "stream",
     "text": [
      "Root Mean Squared Error (RMSE) on test data = 0.311726\n"
     ]
    }
   ],
   "source": [
    "# root mean squared error on test data\n",
    "test_result = lr_model.evaluate(test_df)\n",
    "print(\"Root Mean Squared Error (RMSE) on test data = %g\" % test_result.rootMeanSquaredError)"
   ]
  },
  {
   "cell_type": "code",
   "execution_count": null,
   "metadata": {},
   "outputs": [],
   "source": []
  },
  {
   "cell_type": "code",
   "execution_count": null,
   "metadata": {},
   "outputs": [],
   "source": []
  },
  {
   "cell_type": "markdown",
   "metadata": {},
   "source": [
    "## Implementing Decision Tree Regressor"
   ]
  },
  {
   "cell_type": "code",
   "execution_count": 103,
   "metadata": {},
   "outputs": [],
   "source": [
    "# creating object and fitting\n",
    "from pyspark.ml.regression import DecisionTreeRegressor\n",
    "dt = DecisionTreeRegressor(featuresCol ='features', labelCol = 'y')\n",
    "dt_model = dt.fit(train_df)\n"
   ]
  },
  {
   "cell_type": "code",
   "execution_count": 104,
   "metadata": {},
   "outputs": [
    {
     "name": "stdout",
     "output_type": "stream",
     "text": [
      "+--------+---+------------------+\n",
      "|features|  y|        prediction|\n",
      "+--------+---+------------------+\n",
      "|   [1.0]|  2| 33.80952380952381|\n",
      "|   [4.0]|  8| 33.80952380952381|\n",
      "|   [8.0]| 16| 33.80952380952381|\n",
      "|  [12.0]| 24| 33.80952380952381|\n",
      "|  [13.0]| 26| 33.80952380952381|\n",
      "|  [14.0]| 28| 33.80952380952381|\n",
      "|  [19.0]| 38| 33.80952380952381|\n",
      "|  [25.0]| 50| 33.80952380952381|\n",
      "|  [27.0]| 54| 33.80952380952381|\n",
      "|  [28.0]| 56| 33.80952380952381|\n",
      "|  [29.0]| 58| 33.80952380952381|\n",
      "|  [30.0]| 60| 33.80952380952381|\n",
      "|  [32.0]| 64| 33.80952380952381|\n",
      "|  [33.0]| 66| 33.80952380952381|\n",
      "|  [36.0]| 72| 33.80952380952381|\n",
      "|  [43.0]| 86|102.72727272727273|\n",
      "|  [45.0]| 90|102.72727272727273|\n",
      "|  [46.0]| 92|102.72727272727273|\n",
      "|  [50.0]|100|102.72727272727273|\n",
      "|  [54.0]|108|102.72727272727273|\n",
      "+--------+---+------------------+\n",
      "only showing top 20 rows\n",
      "\n"
     ]
    }
   ],
   "source": [
    "# predicting \n",
    "dt_predictions = dt_model.transform(test_df)\n",
    "dt_predictions.show()\n"
   ]
  },
  {
   "cell_type": "code",
   "execution_count": null,
   "metadata": {},
   "outputs": [],
   "source": [
    "# evaluating\n",
    "dt_evaluator = RegressionEvaluator(labelCol=\"y\", predictionCol=\"prediction\", metricName=\"rmse\")\n",
    "rmse = dt_evaluator.evaluate(dt_predictions)\n",
    "print(\"Root Mean Squared Error (RMSE) on test data = %g\" % rmse)\n",
    "\n",
    "\n",
    "dt_evaluator1 = RegressionEvaluator(labelCol=\"y\", predictionCol=\"prediction\", metricName=\"r2\")\n",
    "r2 = dt_evaluator1.evaluate(dt_predictions)\n",
    "print(\"r2 on test data = %g\" % r2)"
   ]
  },
  {
   "cell_type": "code",
   "execution_count": null,
   "metadata": {},
   "outputs": [],
   "source": []
  },
  {
   "cell_type": "code",
   "execution_count": null,
   "metadata": {},
   "outputs": [],
   "source": []
  },
  {
   "cell_type": "markdown",
   "metadata": {},
   "source": [
    "## Implementing Gradient-boosted tree regression"
   ]
  },
  {
   "cell_type": "code",
   "execution_count": 108,
   "metadata": {},
   "outputs": [
    {
     "name": "stdout",
     "output_type": "stream",
     "text": [
      "+-----------------+---+--------+\n",
      "|       prediction|  y|features|\n",
      "+-----------------+---+--------+\n",
      "|33.80952380952381|  2|   [1.0]|\n",
      "|33.80952380952381|  8|   [4.0]|\n",
      "|33.80952380952381| 16|   [8.0]|\n",
      "|33.80952380952381| 24|  [12.0]|\n",
      "|33.80952380952381| 26|  [13.0]|\n",
      "+-----------------+---+--------+\n",
      "only showing top 5 rows\n",
      "\n"
     ]
    }
   ],
   "source": [
    "# creating object, fitting and predicting\n",
    "from pyspark.ml.regression import GBTRegressor\n",
    "gbt = GBTRegressor(featuresCol = 'features', labelCol = 'y', maxIter=10)\n",
    "gbt_model = gbt.fit(train_df)\n",
    "gbt_predictions = gbt_model.transform(test_df)\n",
    "gbt_predictions.select('prediction', 'y', 'features').show(5)"
   ]
  },
  {
   "cell_type": "code",
   "execution_count": 110,
   "metadata": {},
   "outputs": [
    {
     "name": "stdout",
     "output_type": "stream",
     "text": [
      "Root Mean Squared Error (RMSE) on test data = 18.9831\n",
      "R2 on test data = 0.998971\n"
     ]
    }
   ],
   "source": [
    "# evaluating \n",
    "gbt_evaluator = RegressionEvaluator(labelCol=\"y\", predictionCol=\"prediction\", metricName=\"rmse\")\n",
    "rmse = gbt_evaluator.evaluate(gbt_predictions)\n",
    "print(\"Root Mean Squared Error (RMSE) on test data = %g\" % rmse)\n",
    "\n",
    "gbt_evaluator1 = RegressionEvaluator(labelCol=\"y\", predictionCol=\"prediction\", metricName=\"r2\")\n",
    "r2 = gbt_evaluator1.evaluate(gbt_predictions)\n",
    "print(\"R2 on test data = %g\" % r2)"
   ]
  },
  {
   "cell_type": "code",
   "execution_count": null,
   "metadata": {},
   "outputs": [],
   "source": []
  },
  {
   "cell_type": "code",
   "execution_count": null,
   "metadata": {},
   "outputs": [],
   "source": []
  },
  {
   "cell_type": "markdown",
   "metadata": {},
   "source": [
    "## Implementing Random forest regression"
   ]
  },
  {
   "cell_type": "code",
   "execution_count": 112,
   "metadata": {},
   "outputs": [
    {
     "name": "stdout",
     "output_type": "stream",
     "text": [
      "+-----------------+---+--------+\n",
      "|       prediction|  y|features|\n",
      "+-----------------+---+--------+\n",
      "|33.80952380952381|  2|   [1.0]|\n",
      "|33.80952380952381|  8|   [4.0]|\n",
      "|33.80952380952381| 16|   [8.0]|\n",
      "|33.80952380952381| 24|  [12.0]|\n",
      "|33.80952380952381| 26|  [13.0]|\n",
      "+-----------------+---+--------+\n",
      "only showing top 5 rows\n",
      "\n"
     ]
    }
   ],
   "source": [
    "# creating object, fitting and predicting\n",
    "from pyspark.ml.regression import RandomForestRegressor\n",
    "rf = RandomForestRegressor(featuresCol=\"features\",labelCol = 'y',maxDepth=5)\n",
    "rf_model = gbt.fit(train_df)\n",
    "rf_predictions = rf_model.transform(test_df)\n",
    "rf_predictions.select('prediction', 'y', 'features').show(5)"
   ]
  },
  {
   "cell_type": "code",
   "execution_count": 113,
   "metadata": {},
   "outputs": [
    {
     "name": "stdout",
     "output_type": "stream",
     "text": [
      "Root Mean Squared Error (RMSE) on test data = 18.9831\n",
      "R2 on test data = 0.998971\n"
     ]
    }
   ],
   "source": [
    "# evaluating \n",
    "rf_evaluator = RegressionEvaluator(labelCol=\"y\", predictionCol=\"prediction\", metricName=\"rmse\")\n",
    "rmse = rf_evaluator.evaluate(rf_predictions)\n",
    "print(\"Root Mean Squared Error (RMSE) on test data = %g\" % rmse)\n",
    "\n",
    "rf_evaluator1 = RegressionEvaluator(labelCol=\"y\", predictionCol=\"prediction\", metricName=\"r2\")\n",
    "r2 = rf_evaluator1.evaluate(rf_predictions)\n",
    "print(\"R2 on test data = %g\" % r2)"
   ]
  },
  {
   "cell_type": "code",
   "execution_count": null,
   "metadata": {},
   "outputs": [],
   "source": []
  },
  {
   "cell_type": "code",
   "execution_count": null,
   "metadata": {},
   "outputs": [],
   "source": []
  },
  {
   "cell_type": "markdown",
   "metadata": {},
   "source": [
    "## Conclusion\n",
    "### Linear regresion is woking very well among each regrassor with r2=1."
   ]
  },
  {
   "cell_type": "code",
   "execution_count": null,
   "metadata": {},
   "outputs": [],
   "source": []
  }
 ],
 "metadata": {
  "kernelspec": {
   "display_name": "Python 3",
   "language": "python",
   "name": "python3"
  },
  "language_info": {
   "codemirror_mode": {
    "name": "ipython",
    "version": 3
   },
   "file_extension": ".py",
   "mimetype": "text/x-python",
   "name": "python",
   "nbconvert_exporter": "python",
   "pygments_lexer": "ipython3",
   "version": "3.7.3"
  }
 },
 "nbformat": 4,
 "nbformat_minor": 2
}
